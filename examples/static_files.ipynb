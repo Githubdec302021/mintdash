{
 "cells": [
  {
   "cell_type": "code",
   "execution_count": 6,
   "id": "b7fa51bf-059f-46f6-baaf-f07fabbba004",
   "metadata": {},
   "outputs": [],
   "source": [
    "import pandas as pd\n",
    "from datetime import datetime, date"
   ]
  },
  {
   "cell_type": "code",
   "execution_count": 32,
   "id": "d58feca8-ad21-4df7-a789-efc382dd0827",
   "metadata": {},
   "outputs": [],
   "source": [
    "df = pd.read_csv('../data/transactions.csv', parse_dates=['Date'])"
   ]
  },
  {
   "cell_type": "code",
   "execution_count": 33,
   "id": "92d3a247-1fbb-4638-b210-2767b232e90d",
   "metadata": {},
   "outputs": [],
   "source": [
    "df = df.loc[df['Date'] >= datetime(2021, 1, 1)]"
   ]
  },
  {
   "cell_type": "code",
   "execution_count": 34,
   "id": "0244b687-fc43-472a-98da-64671a424724",
   "metadata": {},
   "outputs": [],
   "source": [
    "df = df.set_index('Date')"
   ]
  },
  {
   "cell_type": "code",
   "execution_count": 37,
   "id": "003acc8a-3735-4f9a-818f-18eae5b0d907",
   "metadata": {},
   "outputs": [],
   "source": [
    "monthly = round(df.resample('M')[['Amount']].sum())"
   ]
  },
  {
   "cell_type": "code",
   "execution_count": 56,
   "id": "c50c38c7-9ac7-4a77-8c17-a5eb3a973e1c",
   "metadata": {},
   "outputs": [],
   "source": [
    "monthly.index = monthly.index.month"
   ]
  },
  {
   "cell_type": "code",
   "execution_count": 60,
   "id": "3c2adb07-c6b5-471c-ae8e-32207306e9f8",
   "metadata": {},
   "outputs": [],
   "source": [
    "monthly = monthly.reset_index()"
   ]
  },
  {
   "cell_type": "code",
   "execution_count": 62,
   "id": "79ab4d1e-2e09-4d50-b06b-4b87b1fbdef7",
   "metadata": {},
   "outputs": [],
   "source": [
    "monthly.to_json('static_data/monthly_spending.json')"
   ]
  }
 ],
 "metadata": {
  "kernelspec": {
   "display_name": "Python 3",
   "language": "python",
   "name": "python3"
  },
  "language_info": {
   "codemirror_mode": {
    "name": "ipython",
    "version": 3
   },
   "file_extension": ".py",
   "mimetype": "text/x-python",
   "name": "python",
   "nbconvert_exporter": "python",
   "pygments_lexer": "ipython3",
   "version": "3.8.11"
  }
 },
 "nbformat": 4,
 "nbformat_minor": 5
}
