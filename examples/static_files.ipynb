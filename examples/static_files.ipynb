{
 "cells": [
  {
   "cell_type": "code",
   "execution_count": 6,
   "id": "b7fa51bf-059f-46f6-baaf-f07fabbba004",
   "metadata": {},
   "outputs": [],
   "source": [
    "import pandas as pd\n",
    "from datetime import datetime, date"
   ]
  },
  {
   "cell_type": "code",
   "execution_count": 73,
   "id": "d58feca8-ad21-4df7-a789-efc382dd0827",
   "metadata": {},
   "outputs": [],
   "source": [
    "df = pd.read_csv('../data/transactions.csv', parse_dates=['Date'])\n",
    "\n",
    "# df = process_data(df, pivot_dates=False)\n",
    "\n",
    "categories = list(df.Category.unique())\n",
    "income = ['Income', 'Paycheck', 'Transfer', 'Federal Tax', 'Taxes', 'Rental Income', 'Interest Income']\n",
    "taxes = ['Federal Tax', 'Taxes']\n",
    "internal_acc = ['Credit Card Payment', 'Transfer', 'Financial']\n",
    "non_expense =  income + taxes + internal_acc\n",
    "expenses = [i for i in categories if i not in non_expense]\n",
    "\n",
    "df = df.loc[df['Category'].isin(expenses)]"
   ]
  },
  {
   "cell_type": "code",
   "execution_count": 74,
   "id": "92d3a247-1fbb-4638-b210-2767b232e90d",
   "metadata": {},
   "outputs": [],
   "source": [
    "df = df.loc[df['Date'] >= datetime(2021, 1, 1)]"
   ]
  },
  {
   "cell_type": "code",
   "execution_count": 75,
   "id": "0244b687-fc43-472a-98da-64671a424724",
   "metadata": {},
   "outputs": [],
   "source": [
    "df = df.set_index('Date')"
   ]
  },
  {
   "cell_type": "code",
   "execution_count": 76,
   "id": "003acc8a-3735-4f9a-818f-18eae5b0d907",
   "metadata": {},
   "outputs": [],
   "source": [
    "monthly = round(df.resample('M')[['Amount']].sum())"
   ]
  },
  {
   "cell_type": "code",
   "execution_count": 77,
   "id": "c50c38c7-9ac7-4a77-8c17-a5eb3a973e1c",
   "metadata": {},
   "outputs": [],
   "source": [
    "monthly.index = monthly.index.month"
   ]
  },
  {
   "cell_type": "code",
   "execution_count": 78,
   "id": "3c2adb07-c6b5-471c-ae8e-32207306e9f8",
   "metadata": {},
   "outputs": [],
   "source": [
    "monthly = monthly.reset_index()"
   ]
  },
  {
   "cell_type": "code",
   "execution_count": 79,
   "id": "79e84657-907b-4f61-8052-8cf2f887676b",
   "metadata": {},
   "outputs": [
    {
     "data": {
      "text/html": [
       "<div>\n",
       "<style scoped>\n",
       "    .dataframe tbody tr th:only-of-type {\n",
       "        vertical-align: middle;\n",
       "    }\n",
       "\n",
       "    .dataframe tbody tr th {\n",
       "        vertical-align: top;\n",
       "    }\n",
       "\n",
       "    .dataframe thead th {\n",
       "        text-align: right;\n",
       "    }\n",
       "</style>\n",
       "<table border=\"1\" class=\"dataframe\">\n",
       "  <thead>\n",
       "    <tr style=\"text-align: right;\">\n",
       "      <th></th>\n",
       "      <th>Date</th>\n",
       "      <th>Amount</th>\n",
       "    </tr>\n",
       "  </thead>\n",
       "  <tbody>\n",
       "    <tr>\n",
       "      <th>0</th>\n",
       "      <td>1</td>\n",
       "      <td>5472.0</td>\n",
       "    </tr>\n",
       "    <tr>\n",
       "      <th>1</th>\n",
       "      <td>2</td>\n",
       "      <td>2977.0</td>\n",
       "    </tr>\n",
       "    <tr>\n",
       "      <th>2</th>\n",
       "      <td>3</td>\n",
       "      <td>5128.0</td>\n",
       "    </tr>\n",
       "    <tr>\n",
       "      <th>3</th>\n",
       "      <td>4</td>\n",
       "      <td>6525.0</td>\n",
       "    </tr>\n",
       "    <tr>\n",
       "      <th>4</th>\n",
       "      <td>5</td>\n",
       "      <td>5738.0</td>\n",
       "    </tr>\n",
       "    <tr>\n",
       "      <th>5</th>\n",
       "      <td>6</td>\n",
       "      <td>3087.0</td>\n",
       "    </tr>\n",
       "    <tr>\n",
       "      <th>6</th>\n",
       "      <td>7</td>\n",
       "      <td>5271.0</td>\n",
       "    </tr>\n",
       "    <tr>\n",
       "      <th>7</th>\n",
       "      <td>8</td>\n",
       "      <td>9708.0</td>\n",
       "    </tr>\n",
       "    <tr>\n",
       "      <th>8</th>\n",
       "      <td>9</td>\n",
       "      <td>9140.0</td>\n",
       "    </tr>\n",
       "    <tr>\n",
       "      <th>9</th>\n",
       "      <td>10</td>\n",
       "      <td>14771.0</td>\n",
       "    </tr>\n",
       "    <tr>\n",
       "      <th>10</th>\n",
       "      <td>11</td>\n",
       "      <td>4335.0</td>\n",
       "    </tr>\n",
       "    <tr>\n",
       "      <th>11</th>\n",
       "      <td>12</td>\n",
       "      <td>404.0</td>\n",
       "    </tr>\n",
       "  </tbody>\n",
       "</table>\n",
       "</div>"
      ],
      "text/plain": [
       "    Date   Amount\n",
       "0      1   5472.0\n",
       "1      2   2977.0\n",
       "2      3   5128.0\n",
       "3      4   6525.0\n",
       "4      5   5738.0\n",
       "5      6   3087.0\n",
       "6      7   5271.0\n",
       "7      8   9708.0\n",
       "8      9   9140.0\n",
       "9     10  14771.0\n",
       "10    11   4335.0\n",
       "11    12    404.0"
      ]
     },
     "execution_count": 79,
     "metadata": {},
     "output_type": "execute_result"
    }
   ],
   "source": [
    "monthly"
   ]
  },
  {
   "cell_type": "code",
   "execution_count": 80,
   "id": "79ab4d1e-2e09-4d50-b06b-4b87b1fbdef7",
   "metadata": {},
   "outputs": [],
   "source": [
    "monthly.to_json('static_data/monthly_spending.json')"
   ]
  }
 ],
 "metadata": {
  "kernelspec": {
   "display_name": "Python 3",
   "language": "python",
   "name": "python3"
  },
  "language_info": {
   "codemirror_mode": {
    "name": "ipython",
    "version": 3
   },
   "file_extension": ".py",
   "mimetype": "text/x-python",
   "name": "python",
   "nbconvert_exporter": "python",
   "pygments_lexer": "ipython3",
   "version": "3.8.11"
  }
 },
 "nbformat": 4,
 "nbformat_minor": 5
}
