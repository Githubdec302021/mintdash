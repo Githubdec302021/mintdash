{
 "cells": [
  {
   "cell_type": "code",
   "execution_count": 6,
   "id": "b7fa51bf-059f-46f6-baaf-f07fabbba004",
   "metadata": {},
   "outputs": [],
   "source": [
    "import pandas as pd\n",
    "from datetime import datetime, date"
   ]
  },
  {
   "cell_type": "code",
   "execution_count": 32,
   "id": "d58feca8-ad21-4df7-a789-efc382dd0827",
   "metadata": {},
   "outputs": [],
   "source": [
    "df = pd.read_csv('../data/transactions.csv', parse_dates=['Date'])"
   ]
  },
  {
   "cell_type": "code",
   "execution_count": 33,
   "id": "92d3a247-1fbb-4638-b210-2767b232e90d",
   "metadata": {},
   "outputs": [],
   "source": [
    "df = df.loc[df['Date'] >= datetime(2021, 1, 1)]"
   ]
  },
  {
   "cell_type": "code",
   "execution_count": 34,
   "id": "0244b687-fc43-472a-98da-64671a424724",
   "metadata": {},
   "outputs": [],
   "source": [
    "df = df.set_index('Date')"
   ]
  },
  {
   "cell_type": "code",
   "execution_count": 37,
   "id": "003acc8a-3735-4f9a-818f-18eae5b0d907",
   "metadata": {},
   "outputs": [],
   "source": [
    "monthly = round(df.resample('M')[['Amount']].sum())"
   ]
  },
  {
   "cell_type": "code",
   "execution_count": 48,
   "id": "c50c38c7-9ac7-4a77-8c17-a5eb3a973e1c",
   "metadata": {},
   "outputs": [
    {
     "ename": "AttributeError",
     "evalue": "'DatetimeIndex' object has no attribute 'strptime'",
     "output_type": "error",
     "traceback": [
      "\u001b[0;31m---------------------------------------------------------------------------\u001b[0m",
      "\u001b[0;31mAttributeError\u001b[0m                            Traceback (most recent call last)",
      "\u001b[0;32m<ipython-input-48-9fe1667bb68d>\u001b[0m in \u001b[0;36m<module>\u001b[0;34m\u001b[0m\n\u001b[0;32m----> 1\u001b[0;31m \u001b[0mmonthly\u001b[0m\u001b[0;34m.\u001b[0m\u001b[0mindex\u001b[0m\u001b[0;34m.\u001b[0m\u001b[0mstrptime\u001b[0m\u001b[0;34m(\u001b[0m\u001b[0;34m)\u001b[0m\u001b[0;34m\u001b[0m\u001b[0;34m\u001b[0m\u001b[0m\n\u001b[0m",
      "\u001b[0;31mAttributeError\u001b[0m: 'DatetimeIndex' object has no attribute 'strptime'"
     ]
    }
   ],
   "source": [
    "monthly.index.strptime()"
   ]
  },
  {
   "cell_type": "code",
   "execution_count": 31,
   "id": "79ab4d1e-2e09-4d50-b06b-4b87b1fbdef7",
   "metadata": {},
   "outputs": [
    {
     "data": {
      "text/html": [
       "<div>\n",
       "<style scoped>\n",
       "    .dataframe tbody tr th:only-of-type {\n",
       "        vertical-align: middle;\n",
       "    }\n",
       "\n",
       "    .dataframe tbody tr th {\n",
       "        vertical-align: top;\n",
       "    }\n",
       "\n",
       "    .dataframe thead th {\n",
       "        text-align: right;\n",
       "    }\n",
       "</style>\n",
       "<table border=\"1\" class=\"dataframe\">\n",
       "  <thead>\n",
       "    <tr style=\"text-align: right;\">\n",
       "      <th></th>\n",
       "      <th>Description</th>\n",
       "      <th>Original Description</th>\n",
       "      <th>Amount</th>\n",
       "      <th>Transaction Type</th>\n",
       "      <th>Category</th>\n",
       "      <th>Account Name</th>\n",
       "      <th>Labels</th>\n",
       "      <th>Notes</th>\n",
       "    </tr>\n",
       "    <tr>\n",
       "      <th>Date</th>\n",
       "      <th></th>\n",
       "      <th></th>\n",
       "      <th></th>\n",
       "      <th></th>\n",
       "      <th></th>\n",
       "      <th></th>\n",
       "      <th></th>\n",
       "      <th></th>\n",
       "    </tr>\n",
       "  </thead>\n",
       "  <tbody>\n",
       "  </tbody>\n",
       "</table>\n",
       "</div>"
      ],
      "text/plain": [
       "Empty DataFrame\n",
       "Columns: [Description, Original Description, Amount, Transaction Type, Category, Account Name, Labels, Notes]\n",
       "Index: []"
      ]
     },
     "execution_count": 31,
     "metadata": {},
     "output_type": "execute_result"
    }
   ],
   "source": [
    "monthly.to_json('static_data/monthly_spending.json')"
   ]
  }
 ],
 "metadata": {
  "kernelspec": {
   "display_name": "Python 3",
   "language": "python",
   "name": "python3"
  },
  "language_info": {
   "codemirror_mode": {
    "name": "ipython",
    "version": 3
   },
   "file_extension": ".py",
   "mimetype": "text/x-python",
   "name": "python",
   "nbconvert_exporter": "python",
   "pygments_lexer": "ipython3",
   "version": "3.8.11"
  }
 },
 "nbformat": 4,
 "nbformat_minor": 5
}
